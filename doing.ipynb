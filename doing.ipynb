{
 "cells": [
  {
   "cell_type": "markdown",
   "id": "b68e4053",
   "metadata": {},
   "source": [
    "# Brands  Emotions Judge\n",
    "\n",
    "## Business Understanding\n",
    "\n",
    "Each day every firm is producing products and services aiming to impress its customers and the general public as this will automatically lead to more sales which gives better returns. Tech companies are one of the most talked about on social media and therefore lots of information on people reactions to their brands is be available on social media platforms.\n",
    "\n",
    "A system that can judge the emotions expressed in tweets related to this tech companies would have numerous advantages and potential uses. This can help companies understand public sentiment about their products or services. It would enable the companies gain insights into customer feedback which will help identify areas of improvement or issues that need attention. This would be done by understanding customer preferences and emotions related to different products or features. Then Using this information for product development and innovation.\n",
    "\n",
    "The system would also give insights of how the companies are doing against their competitors in the eyes of the public. Which will go a long way in assisting marketing strategies. Evaluate the effectiveness of marketing campaigns by analyzing the emotions expressed in tweets before and after a campaign. In addition, it would monitor and assess the emotional reactions of the public during a crisis. This will help companies respond more effectively and make informed decisions.\n",
    "\n",
    "In some cases, the system would also improve customer support by identify tweets expressing frustration or dissatisfaction with company products and services and responding to the issues addressed by the customer.\n"
   ]
  },
  {
   "cell_type": "markdown",
   "id": "d8e3fc04",
   "metadata": {},
   "source": [
    "## Problem Statement\n",
    "\n",
    "Social media contain a lot of data availed by members of the public freely. The data contains important information that is in unstructured format which is hard to understand. On the other hand, companies require lots of information to help them make critical decisions about their products and services. This is from the fact that businesses are in constant competition and need to improve each day to keep and grow their market. Our system is looking in to capturing information about people’s emotion on this companies’ products and services. It looks into making the information on social media platform useful and available to companies benefiting both the social media company and our target information uses which are the tech companies."
   ]
  },
  {
   "cell_type": "markdown",
   "id": "a77d64e3",
   "metadata": {},
   "source": [
    "## Main Objective\n",
    "To create a sytem that will get public emotions about google and apple products and services from tweets."
   ]
  },
  {
   "cell_type": "markdown",
   "id": "43df4d62",
   "metadata": {},
   "source": [
    "## Data Understanding\n",
    "The data used in this project was sources from Brands and Product Emotions. This data was made by giving tweets to a crowd and they gave feedback on what emotion was expressed on the tweet, either positive, negative or no emotions towards the brand or product. If some emotion was expressed they were also asked to give which brand or product was the target of that emotion. The data was availed in August 30, 2013 by Kent Cavender Bares.\n",
    "\n",
    "The data comprise of 3 columns and 9094 rows. The rows represent different tweets. The first column (tweet_text) contain text from each of the 9094 tweets. The second column (emotion_in_tweet_is_directed_at) contains the product to which the tweet was directed to. The last column (is_there_an_emotion_directed_at_a_brand_or_product) contains the emotions from the tweet.\n"
   ]
  },
  {
   "cell_type": "code",
   "execution_count": 1,
   "id": "b70aac22",
   "metadata": {},
   "outputs": [],
   "source": [
    "# importing the necessary libraries\n",
    "\n",
    "from imblearn.over_sampling import SMOTE\n",
    "import matplotlib.pyplot as plt\n",
    "import nltk\n",
    "from   nltk.corpus import stopwords\n",
    "from   nltk import word_tokenize\n",
    "import pandas as pd\n",
    "from sklearn.preprocessing import LabelEncoder\n",
    "from sklearn.ensemble import RandomForestClassifier\n",
    "from sklearn.feature_extraction.text import TfidfVectorizer\n",
    "from sklearn.model_selection import train_test_split\n",
    "from sklearn.feature_extraction.text import TfidfVectorizer\n",
    "from sklearn.metrics import (accuracy_score, precision_score, recall_score, f1_score,\n",
    "    confusion_matrix, classification_report, ConfusionMatrixDisplay)\n",
    "import string\n",
    "%matplotlib inline"
   ]
  },
  {
   "cell_type": "code",
   "execution_count": 2,
   "id": "2058f08b",
   "metadata": {},
   "outputs": [
    {
     "data": {
      "text/html": [
       "<div>\n",
       "<style scoped>\n",
       "    .dataframe tbody tr th:only-of-type {\n",
       "        vertical-align: middle;\n",
       "    }\n",
       "\n",
       "    .dataframe tbody tr th {\n",
       "        vertical-align: top;\n",
       "    }\n",
       "\n",
       "    .dataframe thead th {\n",
       "        text-align: right;\n",
       "    }\n",
       "</style>\n",
       "<table border=\"1\" class=\"dataframe\">\n",
       "  <thead>\n",
       "    <tr style=\"text-align: right;\">\n",
       "      <th></th>\n",
       "      <th>tweet_text</th>\n",
       "      <th>emotion_in_tweet_is_directed_at</th>\n",
       "      <th>is_there_an_emotion_directed_at_a_brand_or_product</th>\n",
       "    </tr>\n",
       "  </thead>\n",
       "  <tbody>\n",
       "    <tr>\n",
       "      <th>0</th>\n",
       "      <td>.@wesley83 I have a 3G iPhone. After 3 hrs twe...</td>\n",
       "      <td>iPhone</td>\n",
       "      <td>Negative emotion</td>\n",
       "    </tr>\n",
       "    <tr>\n",
       "      <th>1</th>\n",
       "      <td>@jessedee Know about @fludapp ? Awesome iPad/i...</td>\n",
       "      <td>iPad or iPhone App</td>\n",
       "      <td>Positive emotion</td>\n",
       "    </tr>\n",
       "    <tr>\n",
       "      <th>2</th>\n",
       "      <td>@swonderlin Can not wait for #iPad 2 also. The...</td>\n",
       "      <td>iPad</td>\n",
       "      <td>Positive emotion</td>\n",
       "    </tr>\n",
       "    <tr>\n",
       "      <th>3</th>\n",
       "      <td>@sxsw I hope this year's festival isn't as cra...</td>\n",
       "      <td>iPad or iPhone App</td>\n",
       "      <td>Negative emotion</td>\n",
       "    </tr>\n",
       "    <tr>\n",
       "      <th>4</th>\n",
       "      <td>@sxtxstate great stuff on Fri #SXSW: Marissa M...</td>\n",
       "      <td>Google</td>\n",
       "      <td>Positive emotion</td>\n",
       "    </tr>\n",
       "  </tbody>\n",
       "</table>\n",
       "</div>"
      ],
      "text/plain": [
       "                                          tweet_text   \n",
       "0  .@wesley83 I have a 3G iPhone. After 3 hrs twe...  \\\n",
       "1  @jessedee Know about @fludapp ? Awesome iPad/i...   \n",
       "2  @swonderlin Can not wait for #iPad 2 also. The...   \n",
       "3  @sxsw I hope this year's festival isn't as cra...   \n",
       "4  @sxtxstate great stuff on Fri #SXSW: Marissa M...   \n",
       "\n",
       "  emotion_in_tweet_is_directed_at   \n",
       "0                          iPhone  \\\n",
       "1              iPad or iPhone App   \n",
       "2                            iPad   \n",
       "3              iPad or iPhone App   \n",
       "4                          Google   \n",
       "\n",
       "  is_there_an_emotion_directed_at_a_brand_or_product  \n",
       "0                                   Negative emotion  \n",
       "1                                   Positive emotion  \n",
       "2                                   Positive emotion  \n",
       "3                                   Negative emotion  \n",
       "4                                   Positive emotion  "
      ]
     },
     "execution_count": 2,
     "metadata": {},
     "output_type": "execute_result"
    }
   ],
   "source": [
    "#loading and previewing the dataset\n",
    "data=pd.read_csv('judge-1377884607_tweet_product_company.csv',encoding='latin-1')\n",
    "data.head(5)"
   ]
  },
  {
   "cell_type": "code",
   "execution_count": null,
   "id": "1ec72780",
   "metadata": {},
   "outputs": [],
   "source": []
  }
 ],
 "metadata": {
  "kernelspec": {
   "display_name": "Python (learn-env)",
   "language": "python",
   "name": "learn-env"
  },
  "language_info": {
   "codemirror_mode": {
    "name": "ipython",
    "version": 3
   },
   "file_extension": ".py",
   "mimetype": "text/x-python",
   "name": "python",
   "nbconvert_exporter": "python",
   "pygments_lexer": "ipython3",
   "version": "3.10.11"
  }
 },
 "nbformat": 4,
 "nbformat_minor": 5
}
