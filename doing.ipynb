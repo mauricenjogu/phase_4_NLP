{
 "cells": [
  {
   "cell_type": "markdown",
   "id": "b68e4053",
   "metadata": {},
   "source": [
    "# Brands  Emotions Judge\n",
    "\n",
    "## Business Understanding\n",
    "\n",
    "Each day every firm is producing products and services aiming to impress its customers and the general public as this will automatically lead to more sales which gives better returns. Tech companies are one of the most talked about on social media and therefore lots of information on people reactions to their brands is be available on social media platforms.\n",
    "\n",
    "A system that can judge the emotions expressed in tweets related to this tech companies would have numerous advantages and potential uses. This can help companies understand public sentiment about their products or services. It would enable the companies gain insights into customer feedback which will help identify areas of improvement or issues that need attention. This would be done by understanding customer preferences and emotions related to different products or features. Then Using this information for product development and innovation.\n",
    "\n",
    "The system would also give insights of how the companies are doing against their competitors in the eyes of the public. Which will go a long way in assisting marketing strategies. Evaluate the effectiveness of marketing campaigns by analyzing the emotions expressed in tweets before and after a campaign. In addition, it would monitor and assess the emotional reactions of the public during a crisis. This will help companies respond more effectively and make informed decisions.\n",
    "\n",
    "In some cases, the system would also improve customer support by identify tweets expressing frustration or dissatisfaction with company products and services and responding to the issues addressed by the customer.\n"
   ]
  },
  {
   "cell_type": "markdown",
   "id": "d8e3fc04",
   "metadata": {},
   "source": [
    "## Problem Statement\n",
    "\n",
    "Social media contain a lot of data availed by members of the public freely. The data contains important information that is in unstructured format which is hard to understand. On the other hand, companies require lots of information to help them make critical decisions about their products and services. This is from the fact that businesses are in constant competition and need to improve each day to keep and grow their market. Our system is looking in to capturing information about people’s emotion on this companies’ products and services. It looks into making the information on social media platform useful and available to companies benefiting both the social media company and our target information uses which are the tech companies."
   ]
  },
  {
   "cell_type": "markdown",
   "id": "a77d64e3",
   "metadata": {},
   "source": [
    "## Main Objective\n",
    "To create a sytem that will get public emotions about google and apple products and services from tweets."
   ]
  },
  {
   "cell_type": "markdown",
   "id": "43df4d62",
   "metadata": {},
   "source": [
    "## Data Understanding\n",
    "The data used in this project was sources from Brands and Product Emotions. This data was made by giving tweets to a crowd and they gave feedback on what emotion was expressed on the tweet, either positive, negative or no emotions towards the brand or product. If some emotion was expressed they were also asked to give which brand or product was the target of that emotion. The data was availed in August 30, 2013 by Kent Cavender Bares.\n",
    "\n",
    "The data comprise of 3 columns and 9094 rows. The rows represent different tweets. The first column (tweet_text) contain text from each of the 9094 tweets. The second column (emotion_in_tweet_is_directed_at) contains the product to which the tweet was directed to. The last column (is_there_an_emotion_directed_at_a_brand_or_product) contains the emotions from the tweet.\n"
   ]
  },
  {
   "cell_type": "code",
   "execution_count": 15,
   "id": "b70aac22",
   "metadata": {},
   "outputs": [],
   "source": [
    "# importing the necessary libraries\n",
    "\n",
    "from imblearn.over_sampling import SMOTE\n",
    "import matplotlib.pyplot as plt\n",
    "import nltk\n",
    "from   nltk.corpus import stopwords\n",
    "from   nltk import word_tokenize\n",
    "from   nltk.stem.wordnet import WordNetLemmatizer\n",
    "nltk.download('punkt')\n",
    "nltk.download('wordnet')\n",
    "import pandas as pd\n",
    "from sklearn.preprocessing import LabelEncoder\n",
    "from sklearn.ensemble import RandomForestClassifier\n",
    "from sklearn.feature_extraction.text import TfidfVectorizer\n",
    "from sklearn.model_selection import train_test_split\n",
    "from sklearn.feature_extraction.text import TfidfVectorizer\n",
    "from sklearn.metrics import (accuracy_score, precision_score, recall_score, f1_score,\n",
    "    confusion_matrix, classification_report, ConfusionMatrixDisplay)\n",
    "import string\n",
    "%matplotlib inline"
   ]
  },
  {
   "cell_type": "code",
   "execution_count": 2,
   "id": "2058f08b",
   "metadata": {},
   "outputs": [
    {
     "data": {
      "text/html": [
       "<div>\n",
       "<style scoped>\n",
       "    .dataframe tbody tr th:only-of-type {\n",
       "        vertical-align: middle;\n",
       "    }\n",
       "\n",
       "    .dataframe tbody tr th {\n",
       "        vertical-align: top;\n",
       "    }\n",
       "\n",
       "    .dataframe thead th {\n",
       "        text-align: right;\n",
       "    }\n",
       "</style>\n",
       "<table border=\"1\" class=\"dataframe\">\n",
       "  <thead>\n",
       "    <tr style=\"text-align: right;\">\n",
       "      <th></th>\n",
       "      <th>tweet_text</th>\n",
       "      <th>emotion_in_tweet_is_directed_at</th>\n",
       "      <th>is_there_an_emotion_directed_at_a_brand_or_product</th>\n",
       "    </tr>\n",
       "  </thead>\n",
       "  <tbody>\n",
       "    <tr>\n",
       "      <th>0</th>\n",
       "      <td>.@wesley83 I have a 3G iPhone. After 3 hrs twe...</td>\n",
       "      <td>iPhone</td>\n",
       "      <td>Negative emotion</td>\n",
       "    </tr>\n",
       "    <tr>\n",
       "      <th>1</th>\n",
       "      <td>@jessedee Know about @fludapp ? Awesome iPad/i...</td>\n",
       "      <td>iPad or iPhone App</td>\n",
       "      <td>Positive emotion</td>\n",
       "    </tr>\n",
       "    <tr>\n",
       "      <th>2</th>\n",
       "      <td>@swonderlin Can not wait for #iPad 2 also. The...</td>\n",
       "      <td>iPad</td>\n",
       "      <td>Positive emotion</td>\n",
       "    </tr>\n",
       "    <tr>\n",
       "      <th>3</th>\n",
       "      <td>@sxsw I hope this year's festival isn't as cra...</td>\n",
       "      <td>iPad or iPhone App</td>\n",
       "      <td>Negative emotion</td>\n",
       "    </tr>\n",
       "    <tr>\n",
       "      <th>4</th>\n",
       "      <td>@sxtxstate great stuff on Fri #SXSW: Marissa M...</td>\n",
       "      <td>Google</td>\n",
       "      <td>Positive emotion</td>\n",
       "    </tr>\n",
       "  </tbody>\n",
       "</table>\n",
       "</div>"
      ],
      "text/plain": [
       "                                          tweet_text   \n",
       "0  .@wesley83 I have a 3G iPhone. After 3 hrs twe...  \\\n",
       "1  @jessedee Know about @fludapp ? Awesome iPad/i...   \n",
       "2  @swonderlin Can not wait for #iPad 2 also. The...   \n",
       "3  @sxsw I hope this year's festival isn't as cra...   \n",
       "4  @sxtxstate great stuff on Fri #SXSW: Marissa M...   \n",
       "\n",
       "  emotion_in_tweet_is_directed_at   \n",
       "0                          iPhone  \\\n",
       "1              iPad or iPhone App   \n",
       "2                            iPad   \n",
       "3              iPad or iPhone App   \n",
       "4                          Google   \n",
       "\n",
       "  is_there_an_emotion_directed_at_a_brand_or_product  \n",
       "0                                   Negative emotion  \n",
       "1                                   Positive emotion  \n",
       "2                                   Positive emotion  \n",
       "3                                   Negative emotion  \n",
       "4                                   Positive emotion  "
      ]
     },
     "execution_count": 2,
     "metadata": {},
     "output_type": "execute_result"
    }
   ],
   "source": [
    "#loading and previewing the dataset\n",
    "data=pd.read_csv('judge-1377884607_tweet_product_company.csv',encoding='latin-1')\n",
    "data.head(5)"
   ]
  },
  {
   "cell_type": "code",
   "execution_count": 3,
   "id": "1ec72780",
   "metadata": {},
   "outputs": [
    {
     "name": "stdout",
     "output_type": "stream",
     "text": [
      "<class 'pandas.core.frame.DataFrame'>\n",
      "RangeIndex: 9093 entries, 0 to 9092\n",
      "Data columns (total 3 columns):\n",
      " #   Column                                              Non-Null Count  Dtype \n",
      "---  ------                                              --------------  ----- \n",
      " 0   tweet_text                                          9092 non-null   object\n",
      " 1   emotion_in_tweet_is_directed_at                     3291 non-null   object\n",
      " 2   is_there_an_emotion_directed_at_a_brand_or_product  9093 non-null   object\n",
      "dtypes: object(3)\n",
      "memory usage: 213.2+ KB\n"
     ]
    }
   ],
   "source": [
    "#viewing data info\n",
    "data.info()"
   ]
  },
  {
   "cell_type": "code",
   "execution_count": 5,
   "id": "f261da12",
   "metadata": {},
   "outputs": [
    {
     "data": {
      "text/plain": [
       "emotion_in_tweet_is_directed_at\n",
       "iPad                               946\n",
       "Apple                              661\n",
       "iPad or iPhone App                 470\n",
       "Google                             430\n",
       "iPhone                             297\n",
       "Other Google product or service    293\n",
       "Android App                         81\n",
       "Android                             78\n",
       "Other Apple product or service      35\n",
       "Name: count, dtype: int64"
      ]
     },
     "execution_count": 5,
     "metadata": {},
     "output_type": "execute_result"
    }
   ],
   "source": [
    "#Getting emotion directed to value count\n",
    "data['emotion_in_tweet_is_directed_at'].value_counts()"
   ]
  },
  {
   "cell_type": "code",
   "execution_count": 6,
   "id": "918c87df",
   "metadata": {},
   "outputs": [
    {
     "data": {
      "text/plain": [
       "is_there_an_emotion_directed_at_a_brand_or_product\n",
       "No emotion toward brand or product    5389\n",
       "Positive emotion                      2978\n",
       "Negative emotion                       570\n",
       "I can't tell                           156\n",
       "Name: count, dtype: int64"
      ]
     },
     "execution_count": 6,
     "metadata": {},
     "output_type": "execute_result"
    }
   ],
   "source": [
    "#viewing types of emotions and their count\n",
    "data['is_there_an_emotion_directed_at_a_brand_or_product'].value_counts()"
   ]
  },
  {
   "cell_type": "code",
   "execution_count": 7,
   "id": "fdbb6657",
   "metadata": {},
   "outputs": [],
   "source": [
    "#changing the names of the columns to shorter names\n",
    "new_column_names={'is_there_an_emotion_directed_at_a_brand_or_product':'emotion','emotion_in_tweet_is_directed_at':'product'}\n",
    "data.rename(columns=new_column_names, inplace=True)"
   ]
  },
  {
   "cell_type": "markdown",
   "id": "97996f4f",
   "metadata": {},
   "source": [
    "The \"I can't tell\" emotion count seem to be low.It is also simillar to 'No emotion toward brand or product'.We are going to replace it to have 3 catergories of emotion"
   ]
  },
  {
   "cell_type": "code",
   "execution_count": 9,
   "id": "07b88d97",
   "metadata": {},
   "outputs": [
    {
     "data": {
      "text/html": [
       "<div>\n",
       "<style scoped>\n",
       "    .dataframe tbody tr th:only-of-type {\n",
       "        vertical-align: middle;\n",
       "    }\n",
       "\n",
       "    .dataframe tbody tr th {\n",
       "        vertical-align: top;\n",
       "    }\n",
       "\n",
       "    .dataframe thead th {\n",
       "        text-align: right;\n",
       "    }\n",
       "</style>\n",
       "<table border=\"1\" class=\"dataframe\">\n",
       "  <thead>\n",
       "    <tr style=\"text-align: right;\">\n",
       "      <th></th>\n",
       "      <th>tweet_text</th>\n",
       "      <th>product</th>\n",
       "      <th>emotion</th>\n",
       "    </tr>\n",
       "  </thead>\n",
       "  <tbody>\n",
       "    <tr>\n",
       "      <th>0</th>\n",
       "      <td>.@wesley83 I have a 3G iPhone. After 3 hrs twe...</td>\n",
       "      <td>iPhone</td>\n",
       "      <td>Negative emotion</td>\n",
       "    </tr>\n",
       "    <tr>\n",
       "      <th>1</th>\n",
       "      <td>@jessedee Know about @fludapp ? Awesome iPad/i...</td>\n",
       "      <td>iPad or iPhone App</td>\n",
       "      <td>Positive emotion</td>\n",
       "    </tr>\n",
       "    <tr>\n",
       "      <th>2</th>\n",
       "      <td>@swonderlin Can not wait for #iPad 2 also. The...</td>\n",
       "      <td>iPad</td>\n",
       "      <td>Positive emotion</td>\n",
       "    </tr>\n",
       "    <tr>\n",
       "      <th>3</th>\n",
       "      <td>@sxsw I hope this year's festival isn't as cra...</td>\n",
       "      <td>iPad or iPhone App</td>\n",
       "      <td>Negative emotion</td>\n",
       "    </tr>\n",
       "    <tr>\n",
       "      <th>4</th>\n",
       "      <td>@sxtxstate great stuff on Fri #SXSW: Marissa M...</td>\n",
       "      <td>Google</td>\n",
       "      <td>Positive emotion</td>\n",
       "    </tr>\n",
       "  </tbody>\n",
       "</table>\n",
       "</div>"
      ],
      "text/plain": [
       "                                          tweet_text             product   \n",
       "0  .@wesley83 I have a 3G iPhone. After 3 hrs twe...              iPhone  \\\n",
       "1  @jessedee Know about @fludapp ? Awesome iPad/i...  iPad or iPhone App   \n",
       "2  @swonderlin Can not wait for #iPad 2 also. The...                iPad   \n",
       "3  @sxsw I hope this year's festival isn't as cra...  iPad or iPhone App   \n",
       "4  @sxtxstate great stuff on Fri #SXSW: Marissa M...              Google   \n",
       "\n",
       "            emotion  \n",
       "0  Negative emotion  \n",
       "1  Positive emotion  \n",
       "2  Positive emotion  \n",
       "3  Negative emotion  \n",
       "4  Positive emotion  "
      ]
     },
     "execution_count": 9,
     "metadata": {},
     "output_type": "execute_result"
    }
   ],
   "source": [
    "#replacing \"I can't tell\" with 'No emotion toward brand or product'\n",
    "data['emotion'] = data['emotion'].str.replace(\"I can't tell\", 'No emotion toward brand or product')\n",
    "data.head()"
   ]
  },
  {
   "cell_type": "code",
   "execution_count": 11,
   "id": "0b243f30",
   "metadata": {},
   "outputs": [
    {
     "data": {
      "text/html": [
       "<div>\n",
       "<style scoped>\n",
       "    .dataframe tbody tr th:only-of-type {\n",
       "        vertical-align: middle;\n",
       "    }\n",
       "\n",
       "    .dataframe tbody tr th {\n",
       "        vertical-align: top;\n",
       "    }\n",
       "\n",
       "    .dataframe thead th {\n",
       "        text-align: right;\n",
       "    }\n",
       "</style>\n",
       "<table border=\"1\" class=\"dataframe\">\n",
       "  <thead>\n",
       "    <tr style=\"text-align: right;\">\n",
       "      <th></th>\n",
       "      <th>tweet_text</th>\n",
       "      <th>productid</th>\n",
       "      <th>target</th>\n",
       "    </tr>\n",
       "  </thead>\n",
       "  <tbody>\n",
       "    <tr>\n",
       "      <th>0</th>\n",
       "      <td>.@wesley83 I have a 3G iPhone. After 3 hrs twe...</td>\n",
       "      <td>8</td>\n",
       "      <td>0</td>\n",
       "    </tr>\n",
       "    <tr>\n",
       "      <th>1</th>\n",
       "      <td>@jessedee Know about @fludapp ? Awesome iPad/i...</td>\n",
       "      <td>7</td>\n",
       "      <td>2</td>\n",
       "    </tr>\n",
       "    <tr>\n",
       "      <th>2</th>\n",
       "      <td>@swonderlin Can not wait for #iPad 2 also. The...</td>\n",
       "      <td>6</td>\n",
       "      <td>2</td>\n",
       "    </tr>\n",
       "    <tr>\n",
       "      <th>3</th>\n",
       "      <td>@sxsw I hope this year's festival isn't as cra...</td>\n",
       "      <td>7</td>\n",
       "      <td>0</td>\n",
       "    </tr>\n",
       "    <tr>\n",
       "      <th>4</th>\n",
       "      <td>@sxtxstate great stuff on Fri #SXSW: Marissa M...</td>\n",
       "      <td>3</td>\n",
       "      <td>2</td>\n",
       "    </tr>\n",
       "  </tbody>\n",
       "</table>\n",
       "</div>"
      ],
      "text/plain": [
       "                                          tweet_text  productid  target\n",
       "0  .@wesley83 I have a 3G iPhone. After 3 hrs twe...          8       0\n",
       "1  @jessedee Know about @fludapp ? Awesome iPad/i...          7       2\n",
       "2  @swonderlin Can not wait for #iPad 2 also. The...          6       2\n",
       "3  @sxsw I hope this year's festival isn't as cra...          7       0\n",
       "4  @sxtxstate great stuff on Fri #SXSW: Marissa M...          3       2"
      ]
     },
     "execution_count": 11,
     "metadata": {},
     "output_type": "execute_result"
    }
   ],
   "source": [
    "#label enconding product and emotion column\n",
    "le = LabelEncoder()\n",
    "data['productid'] = le.fit_transform(data['product'])\n",
    "data['target'] = le.fit_transform(data['emotion'])\n",
    "#droppint the encoded columns\n",
    "data.drop(['emotion','product'],axis=1,inplace=True)\n",
    "data.head(5)"
   ]
  },
  {
   "cell_type": "code",
   "execution_count": 12,
   "id": "93da7f68",
   "metadata": {},
   "outputs": [],
   "source": [
    "#dropping the rows with the missing values on the tweet_text column\n",
    "data.dropna(subset='tweet_text',inplace=True)"
   ]
  },
  {
   "cell_type": "markdown",
   "id": "1e7622d9",
   "metadata": {},
   "source": [
    "On the next part we are looking to prepare the tweet_text column for Feature Extraction into numerical features using  TF-IDF. We are also going to join it to the product id column as the product the tweet was referring to would have some little effect on what the emotion was. We will start by making a function that takes in text, removes punctions without removing apostrophe in words or remove usernames which start with @.The function will also return all words in their lower case.\n"
   ]
  },
  {
   "cell_type": "code",
   "execution_count": 13,
   "id": "4f33fa39",
   "metadata": {},
   "outputs": [
    {
     "name": "stderr",
     "output_type": "stream",
     "text": [
      "[nltk_data] Downloading package punkt to\n",
      "[nltk_data]     C:\\Users\\ADMIN\\AppData\\Roaming\\nltk_data...\n",
      "[nltk_data]   Package punkt is already up-to-date!\n"
     ]
    }
   ],
   "source": [
    "nltk.download('punkt')\n",
    "\n",
    "def tokenize_with_special_cases(text):\n",
    "    # Tokenize the text into words\n",
    "    words = word_tokenize(text)\n",
    "    \n",
    "    # Remove punctuation except for apostrophes and usernames starting with \"@\"\n",
    "    words_cleaned = []\n",
    "    i = 0\n",
    "    while i < len(words):\n",
    "        word = words[i]\n",
    "        # Keep words with apostrophes\n",
    "        if \"'\" in word:\n",
    "            words_cleaned.append(word)\n",
    "        # Keep usernames starting with @\n",
    "        elif word.startswith('@'):\n",
    "            words_cleaned.append(word)  \n",
    "        else:\n",
    "            # Remove punctuation from the word\n",
    "            word_cleaned = ''.join([char for char in word if char not in string.punctuation])\n",
    "            # Convert word to lowercase\n",
    "            if word_cleaned:\n",
    "                words_cleaned.append(word_cleaned.lower())  \n",
    "        i += 1\n",
    "    \n",
    "    # Join the cleaned words back into a text\n",
    "    text_cleaned = ' '.join(words_cleaned)\n",
    "    \n",
    "    return text_cleaned"
   ]
  },
  {
   "cell_type": "code",
   "execution_count": 14,
   "id": "567aec18",
   "metadata": {},
   "outputs": [
    {
     "data": {
      "text/html": [
       "<div>\n",
       "<style scoped>\n",
       "    .dataframe tbody tr th:only-of-type {\n",
       "        vertical-align: middle;\n",
       "    }\n",
       "\n",
       "    .dataframe tbody tr th {\n",
       "        vertical-align: top;\n",
       "    }\n",
       "\n",
       "    .dataframe thead th {\n",
       "        text-align: right;\n",
       "    }\n",
       "</style>\n",
       "<table border=\"1\" class=\"dataframe\">\n",
       "  <thead>\n",
       "    <tr style=\"text-align: right;\">\n",
       "      <th></th>\n",
       "      <th>tweet_text</th>\n",
       "      <th>productid</th>\n",
       "      <th>target</th>\n",
       "    </tr>\n",
       "  </thead>\n",
       "  <tbody>\n",
       "    <tr>\n",
       "      <th>0</th>\n",
       "      <td>@ wesley83 i have a 3g iphone after 3 hrs twee...</td>\n",
       "      <td>8</td>\n",
       "      <td>0</td>\n",
       "    </tr>\n",
       "    <tr>\n",
       "      <th>1</th>\n",
       "      <td>@ jessedee know about @ fludapp awesome ipadip...</td>\n",
       "      <td>7</td>\n",
       "      <td>2</td>\n",
       "    </tr>\n",
       "    <tr>\n",
       "      <th>2</th>\n",
       "      <td>@ swonderlin can not wait for ipad 2 also they...</td>\n",
       "      <td>6</td>\n",
       "      <td>2</td>\n",
       "    </tr>\n",
       "    <tr>\n",
       "      <th>3</th>\n",
       "      <td>@ sxsw i hope this year 's festival is n't as ...</td>\n",
       "      <td>7</td>\n",
       "      <td>0</td>\n",
       "    </tr>\n",
       "    <tr>\n",
       "      <th>4</th>\n",
       "      <td>@ sxtxstate great stuff on fri sxsw marissa ma...</td>\n",
       "      <td>3</td>\n",
       "      <td>2</td>\n",
       "    </tr>\n",
       "    <tr>\n",
       "      <th>...</th>\n",
       "      <td>...</td>\n",
       "      <td>...</td>\n",
       "      <td>...</td>\n",
       "    </tr>\n",
       "    <tr>\n",
       "      <th>9088</th>\n",
       "      <td>ipad everywhere sxsw link</td>\n",
       "      <td>6</td>\n",
       "      <td>2</td>\n",
       "    </tr>\n",
       "    <tr>\n",
       "      <th>9089</th>\n",
       "      <td>wave buzz rt @ mention we interrupt your regul...</td>\n",
       "      <td>9</td>\n",
       "      <td>1</td>\n",
       "    </tr>\n",
       "    <tr>\n",
       "      <th>9090</th>\n",
       "      <td>google 's zeiger a physician never reported po...</td>\n",
       "      <td>9</td>\n",
       "      <td>1</td>\n",
       "    </tr>\n",
       "    <tr>\n",
       "      <th>9091</th>\n",
       "      <td>some verizon iphone customers complained their...</td>\n",
       "      <td>9</td>\n",
       "      <td>1</td>\n",
       "    </tr>\n",
       "    <tr>\n",
       "      <th>9092</th>\n",
       "      <td>ï¡ïàüêîò£áââ£âûârt @ me...</td>\n",
       "      <td>9</td>\n",
       "      <td>1</td>\n",
       "    </tr>\n",
       "  </tbody>\n",
       "</table>\n",
       "<p>9092 rows × 3 columns</p>\n",
       "</div>"
      ],
      "text/plain": [
       "                                             tweet_text  productid  target\n",
       "0     @ wesley83 i have a 3g iphone after 3 hrs twee...          8       0\n",
       "1     @ jessedee know about @ fludapp awesome ipadip...          7       2\n",
       "2     @ swonderlin can not wait for ipad 2 also they...          6       2\n",
       "3     @ sxsw i hope this year 's festival is n't as ...          7       0\n",
       "4     @ sxtxstate great stuff on fri sxsw marissa ma...          3       2\n",
       "...                                                 ...        ...     ...\n",
       "9088                          ipad everywhere sxsw link          6       2\n",
       "9089  wave buzz rt @ mention we interrupt your regul...          9       1\n",
       "9090  google 's zeiger a physician never reported po...          9       1\n",
       "9091  some verizon iphone customers complained their...          9       1\n",
       "9092  ï¡ïàüêîò£áââ£âûârt @ me...          9       1\n",
       "\n",
       "[9092 rows x 3 columns]"
      ]
     },
     "execution_count": 14,
     "metadata": {},
     "output_type": "execute_result"
    }
   ],
   "source": [
    "data['tweet_text'] = data['tweet_text'].apply(tokenize_with_special_cases)\n",
    "data.head()"
   ]
  },
  {
   "cell_type": "code",
   "execution_count": 17,
   "id": "f612bd72",
   "metadata": {},
   "outputs": [],
   "source": [
    "#function for Lemmatization \n",
    "def lemmatization_function(text):\n",
    "    lemmatizer = WordNetLemmatizer()\n",
    "    return lemmatizer.lemmatize(text)\n"
   ]
  },
  {
   "cell_type": "code",
   "execution_count": 19,
   "id": "9d479a81",
   "metadata": {},
   "outputs": [
    {
     "name": "stderr",
     "output_type": "stream",
     "text": [
      "[nltk_data] Downloading package wordnet to\n",
      "[nltk_data]     C:\\Users\\ADMIN\\AppData\\Roaming\\nltk_data...\n"
     ]
    },
    {
     "data": {
      "text/html": [
       "<div>\n",
       "<style scoped>\n",
       "    .dataframe tbody tr th:only-of-type {\n",
       "        vertical-align: middle;\n",
       "    }\n",
       "\n",
       "    .dataframe tbody tr th {\n",
       "        vertical-align: top;\n",
       "    }\n",
       "\n",
       "    .dataframe thead th {\n",
       "        text-align: right;\n",
       "    }\n",
       "</style>\n",
       "<table border=\"1\" class=\"dataframe\">\n",
       "  <thead>\n",
       "    <tr style=\"text-align: right;\">\n",
       "      <th></th>\n",
       "      <th>tweet_text</th>\n",
       "      <th>productid</th>\n",
       "      <th>target</th>\n",
       "    </tr>\n",
       "  </thead>\n",
       "  <tbody>\n",
       "    <tr>\n",
       "      <th>0</th>\n",
       "      <td>@ wesley83 i have a 3g iphone after 3 hrs twee...</td>\n",
       "      <td>8</td>\n",
       "      <td>0</td>\n",
       "    </tr>\n",
       "    <tr>\n",
       "      <th>1</th>\n",
       "      <td>@ jessedee know about @ fludapp awesome ipadip...</td>\n",
       "      <td>7</td>\n",
       "      <td>2</td>\n",
       "    </tr>\n",
       "    <tr>\n",
       "      <th>2</th>\n",
       "      <td>@ swonderlin can not wait for ipad 2 also they...</td>\n",
       "      <td>6</td>\n",
       "      <td>2</td>\n",
       "    </tr>\n",
       "    <tr>\n",
       "      <th>3</th>\n",
       "      <td>@ sxsw i hope this year 's festival is n't as ...</td>\n",
       "      <td>7</td>\n",
       "      <td>0</td>\n",
       "    </tr>\n",
       "    <tr>\n",
       "      <th>4</th>\n",
       "      <td>@ sxtxstate great stuff on fri sxsw marissa ma...</td>\n",
       "      <td>3</td>\n",
       "      <td>2</td>\n",
       "    </tr>\n",
       "    <tr>\n",
       "      <th>...</th>\n",
       "      <td>...</td>\n",
       "      <td>...</td>\n",
       "      <td>...</td>\n",
       "    </tr>\n",
       "    <tr>\n",
       "      <th>9088</th>\n",
       "      <td>ipad everywhere sxsw link</td>\n",
       "      <td>6</td>\n",
       "      <td>2</td>\n",
       "    </tr>\n",
       "    <tr>\n",
       "      <th>9089</th>\n",
       "      <td>wave buzz rt @ mention we interrupt your regul...</td>\n",
       "      <td>9</td>\n",
       "      <td>1</td>\n",
       "    </tr>\n",
       "    <tr>\n",
       "      <th>9090</th>\n",
       "      <td>google 's zeiger a physician never reported po...</td>\n",
       "      <td>9</td>\n",
       "      <td>1</td>\n",
       "    </tr>\n",
       "    <tr>\n",
       "      <th>9091</th>\n",
       "      <td>some verizon iphone customers complained their...</td>\n",
       "      <td>9</td>\n",
       "      <td>1</td>\n",
       "    </tr>\n",
       "    <tr>\n",
       "      <th>9092</th>\n",
       "      <td>ï¡ïàüêîò£áââ£âûârt @ me...</td>\n",
       "      <td>9</td>\n",
       "      <td>1</td>\n",
       "    </tr>\n",
       "  </tbody>\n",
       "</table>\n",
       "<p>9092 rows × 3 columns</p>\n",
       "</div>"
      ],
      "text/plain": [
       "                                             tweet_text  productid  target\n",
       "0     @ wesley83 i have a 3g iphone after 3 hrs twee...          8       0\n",
       "1     @ jessedee know about @ fludapp awesome ipadip...          7       2\n",
       "2     @ swonderlin can not wait for ipad 2 also they...          6       2\n",
       "3     @ sxsw i hope this year 's festival is n't as ...          7       0\n",
       "4     @ sxtxstate great stuff on fri sxsw marissa ma...          3       2\n",
       "...                                                 ...        ...     ...\n",
       "9088                          ipad everywhere sxsw link          6       2\n",
       "9089  wave buzz rt @ mention we interrupt your regul...          9       1\n",
       "9090  google 's zeiger a physician never reported po...          9       1\n",
       "9091  some verizon iphone customers complained their...          9       1\n",
       "9092  ï¡ïàüêîò£áââ£âûârt @ me...          9       1\n",
       "\n",
       "[9092 rows x 3 columns]"
      ]
     },
     "execution_count": 19,
     "metadata": {},
     "output_type": "execute_result"
    }
   ],
   "source": [
    "#appling lemmatization on our text\n",
    "data['tweet_text'] = data['tweet_text'].apply(lemmatization_function)\n",
    "data"
   ]
  },
  {
   "cell_type": "code",
   "execution_count": 21,
   "id": "aae3d527",
   "metadata": {},
   "outputs": [],
   "source": [
    "#combining tweet_text with productid to get insight from the product\n",
    "data['data_x_combines']=data['tweet_text']+data['productid'].astype('str')"
   ]
  },
  {
   "cell_type": "code",
   "execution_count": 22,
   "id": "72e67fdb",
   "metadata": {},
   "outputs": [],
   "source": [
    "#separating data in to train and test \n",
    "X = data['data_x_combines']\n",
    "y = data['target']\n",
    "X_train, X_test, y_train, y_test = train_test_split(X, y, test_size = 0.3, random_state=1)"
   ]
  },
  {
   "cell_type": "markdown",
   "id": "8b437403",
   "metadata": {},
   "source": [
    "## Modelling"
   ]
  },
  {
   "cell_type": "code",
   "execution_count": 23,
   "id": "64054976",
   "metadata": {},
   "outputs": [],
   "source": [
    "# Feature Extraction into numerical features using TF-IDF\n",
    "stops = stopwords.words('english')\n",
    "vectorizer = TfidfVectorizer(stop_words=stops)\n",
    "tf_idf_train =  vectorizer.fit_transform(X_train)\n",
    "tf_idf_test = vectorizer.transform(X_test)"
   ]
  },
  {
   "cell_type": "code",
   "execution_count": 27,
   "id": "467f6070",
   "metadata": {},
   "outputs": [],
   "source": [
    "classifier = RandomForestClassifier(random_state=1)\n",
    "classifier.fit(tf_idf_train, y_train)\n",
    "y_preds = classifier.predict(tf_idf_test)\n",
    "y_train_preds = classifier.predict(tf_idf_train)"
   ]
  },
  {
   "cell_type": "code",
   "execution_count": 36,
   "id": "07ab3cbc",
   "metadata": {},
   "outputs": [
    {
     "data": {
      "image/png": "[encoded data removed]",
      "text/plain": [
       "<Figure size 640x480 with 2 Axes>"
      ]
     },
     "metadata": {},
     "output_type": "display_data"
    },
    {
     "name": "stdout",
     "output_type": "stream",
     "text": [
      "0.9989000628535513\n"
     ]
    }
   ],
   "source": [
    "# Compute confusion matrix\n",
    "conf_matrix_final = confusion_matrix(y_train,y_train_preds)\n",
    "\n",
    "# Display the confusion matrix\n",
    "disp = ConfusionMatrixDisplay(conf_matrix_final)\n",
    "disp.plot(cmap='Blues')\n",
    "plt.title('Confusion Matrix')\n",
    "plt.show()\n",
    "\n",
    "print(accuracy_score(y_train,y_train_preds))"
   ]
  },
  {
   "cell_type": "code",
   "execution_count": 37,
   "id": "9f27bcda",
   "metadata": {
    "scrolled": true
   },
   "outputs": [
    {
     "data": {
      "image/png": "[encoded data removed]",
      "text/plain": [
       "<Figure size 640x480 with 2 Axes>"
      ]
     },
     "metadata": {},
     "output_type": "display_data"
    },
    {
     "name": "stdout",
     "output_type": "stream",
     "text": [
      "0.8020527859237536\n"
     ]
    }
   ],
   "source": [
    "# Compute confusion matrix\n",
    "conf_matrix_final = confusion_matrix(y_test, y_preds)\n",
    "\n",
    "# Display the confusion matrix\n",
    "disp = ConfusionMatrixDisplay(conf_matrix_final)\n",
    "disp.plot(cmap='Blues')\n",
    "plt.title('Confusion Matrix')\n",
    "plt.show()\n",
    "\n",
    "print(accuracy_score(y_test, y_preds))"
   ]
  },
  {
   "cell_type": "markdown",
   "id": "eb782717",
   "metadata": {},
   "source": [
    "#### model improvement\n",
    "From the above analysis the model seems to be performing very well on training data but poorly on test data. This would be an indication of overfitting which leads to poor predicting results.\n",
    "Our training data seems to have imbalance inputs. We will use oversampling technics to try our model performance on training predictions\n"
   ]
  },
  {
   "cell_type": "code",
   "execution_count": 38,
   "id": "d7dc8158",
   "metadata": {},
   "outputs": [],
   "source": [
    "#appling Synthetic Minority Over-sampling Technique (SMOTE) on our training set\n",
    "smote = SMOTE(sampling_strategy='auto', random_state=42) \n",
    "X_train_resampled, y_train_resampled = smote.fit_resample(tf_idf_train, y_train)"
   ]
  },
  {
   "cell_type": "code",
   "execution_count": 39,
   "id": "01115a2b",
   "metadata": {},
   "outputs": [],
   "source": [
    "#retraining our model using data improved by SMOTE\n",
    "classifier_smote = RandomForestClassifier(class_weight=\"balanced\",random_state=1)\n",
    "classifier_smote.fit(X_train_resampled,  y_train_resampled)\n",
    "\n",
    "#predicting our training and test data with the new model\n",
    "y_train_smote_preds = classifier_smote.predict(tf_idf_train)\n",
    "y_test_smote_preds = classifier_smote.predict(tf_idf_test)"
   ]
  },
  {
   "cell_type": "code",
   "execution_count": 40,
   "id": "41c1ce7b",
   "metadata": {},
   "outputs": [
    {
     "data": {
      "image/png": "[encoded data removed]",
      "text/plain": [
       "<Figure size 640x480 with 2 Axes>"
      ]
     },
     "metadata": {},
     "output_type": "display_data"
    },
    {
     "name": "stdout",
     "output_type": "stream",
     "text": [
      "0.9989000628535513\n"
     ]
    }
   ],
   "source": [
    "# Compute confusion matrix\n",
    "conf_matrix_final = confusion_matrix(y_train,y_train_smote_preds)\n",
    "\n",
    "# Display the confusion matrix\n",
    "disp = ConfusionMatrixDisplay(conf_matrix_final)\n",
    "disp.plot(cmap='Blues')\n",
    "plt.title('Confusion Matrix')\n",
    "plt.show()\n",
    "\n",
    "print(accuracy_score(y_train,y_train_smote_preds))"
   ]
  },
  {
   "cell_type": "code",
   "execution_count": 41,
   "id": "14918b81",
   "metadata": {},
   "outputs": [
    {
     "data": {
      "image/png": "[encoded data removed]",
      "text/plain": [
       "<Figure size 640x480 with 2 Axes>"
      ]
     },
     "metadata": {},
     "output_type": "display_data"
    },
    {
     "name": "stdout",
     "output_type": "stream",
     "text": [
      "0.8002199413489736\n"
     ]
    }
   ],
   "source": [
    "# Compute confusion matrix\n",
    "conf_matrix_final = confusion_matrix(y_test, y_test_smote_preds)\n",
    "\n",
    "# Display the confusion matrix\n",
    "disp = ConfusionMatrixDisplay(conf_matrix_final)\n",
    "disp.plot(cmap='Blues')\n",
    "plt.title('Confusion Matrix')\n",
    "plt.show()\n",
    "\n",
    "print(accuracy_score(y_test, y_test_smote_preds))"
   ]
  },
  {
   "cell_type": "code",
   "execution_count": 46,
   "id": "1faee0d8",
   "metadata": {},
   "outputs": [
    {
     "data": {
      "text/plain": [
       "{'criterion': 'gini',\n",
       " 'max_depth': None,\n",
       " 'min_samples_leaf': 1,\n",
       " 'min_samples_split': 7,\n",
       " 'n_estimators': 120}"
      ]
     },
     "execution_count": 46,
     "metadata": {},
     "output_type": "execute_result"
    }
   ],
   "source": [
    "#improving our by Hyperparameter Tuning using gridsearch\n",
    "from sklearn.model_selection import  GridSearchCV# Define hyperparameter grid for tuning\n",
    "param_grid = {\n",
    "    'n_estimators': [100,110,120],\n",
    "    'criterion': ['gini'],\n",
    "    'max_depth': [None],\n",
    "    'min_samples_split': [6,7,8],\n",
    "    'min_samples_leaf': [1,2],\n",
    "}\n",
    "# Initializing GridSearchCV with the RandomForest classifier and hyperparameter grid\n",
    "grid_search = GridSearchCV(classifier_smote, param_grid, cv=5, scoring='accuracy')\n",
    "\n",
    "# Fitingt the grid search to your training data\n",
    "grid_search.fit(X_train_resampled,  y_train_resampled)\n",
    "\n",
    "# Getting the best parameters from the grid search\n",
    "\n",
    "grid_search.best_params_"
   ]
  },
  {
   "cell_type": "code",
   "execution_count": 47,
   "id": "927ac831",
   "metadata": {},
   "outputs": [],
   "source": [
    "y_test_gridpred = grid_search.predict(tf_idf_test)"
   ]
  },
  {
   "cell_type": "code",
   "execution_count": 48,
   "id": "10d5f626",
   "metadata": {},
   "outputs": [
    {
     "data": {
      "image/png": "[encoded data removed]",
      "text/plain": [
       "<Figure size 640x480 with 2 Axes>"
      ]
     },
     "metadata": {},
     "output_type": "display_data"
    },
    {
     "name": "stdout",
     "output_type": "stream",
     "text": [
      "0.7972873900293255\n"
     ]
    }
   ],
   "source": [
    "# Compute confusion matrix\n",
    "conf_matrix_final = confusion_matrix(y_test, y_test_gridpred)\n",
    "\n",
    "# Display the confusion matrix\n",
    "disp = ConfusionMatrixDisplay(conf_matrix_final)\n",
    "disp.plot(cmap='Blues')\n",
    "plt.title('Confusion Matrix')\n",
    "plt.show()\n",
    "\n",
    "print(accuracy_score(y_test, y_test_gridpred))"
   ]
  },
  {
   "cell_type": "code",
   "execution_count": null,
   "id": "6ceea99a",
   "metadata": {},
   "outputs": [],
   "source": []
  }
 ],
 "metadata": {
  "kernelspec": {
   "display_name": "Python (learn-env)",
   "language": "python",
   "name": "learn-env"
  },
  "language_info": {
   "codemirror_mode": {
    "name": "ipython",
    "version": 3
   },
   "file_extension": ".py",
   "mimetype": "text/x-python",
   "name": "python",
   "nbconvert_exporter": "python",
   "pygments_lexer": "ipython3",
   "version": "3.10.11"
  }
 },
 "nbformat": 4,
 "nbformat_minor": 5
}
